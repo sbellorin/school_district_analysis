{
 "cells": [
  {
   "cell_type": "code",
   "execution_count": null,
   "id": "08655ad4-7823-45bd-9a9b-5f96d48e3857",
   "metadata": {},
   "outputs": [],
   "source": []
  },
  {
   "cell_type": "markdown",
   "id": "86d11417-66a1-4aff-86e2-70d7e7ca29c5",
   "metadata": {},
   "source": [
    "# title 1\n",
    "###### bullet list\n",
    "anything\n",
    "* something\n",
    "* else\n",
    "\n",
    "## space list\n",
    "gibberish doesnt matter\n",
    "1. first\n",
    "2. second"
   ]
  },
  {
   "cell_type": "code",
   "execution_count": null,
   "id": "968f4318-cff5-4c0e-96b6-ada2d11036f1",
   "metadata": {},
   "outputs": [],
   "source": []
  },
  {
   "cell_type": "code",
   "execution_count": null,
   "id": "b6a9d560-bf27-4b56-b4b5-91c90f9cb4e4",
   "metadata": {},
   "outputs": [],
   "source": []
  },
  {
   "cell_type": "code",
   "execution_count": null,
   "id": "2b95f6dc-7e76-4189-8533-f32b56fdf45e",
   "metadata": {},
   "outputs": [],
   "source": []
  },
  {
   "cell_type": "code",
   "execution_count": null,
   "id": "b398ef32-083a-4eff-bfd8-7ed93bc97106",
   "metadata": {},
   "outputs": [],
   "source": []
  },
  {
   "cell_type": "code",
   "execution_count": null,
   "id": "e85edd9f-c635-40be-afb3-479ab5d79fed",
   "metadata": {},
   "outputs": [],
   "source": []
  },
  {
   "cell_type": "code",
   "execution_count": null,
   "id": "93bb3d0a-4867-4c38-91eb-f043c6e5a57b",
   "metadata": {},
   "outputs": [],
   "source": []
  },
  {
   "cell_type": "code",
   "execution_count": null,
   "id": "094dff9f-1eec-4560-9636-e191f28f7986",
   "metadata": {},
   "outputs": [],
   "source": []
  }
 ],
 "metadata": {
  "kernelspec": {
   "display_name": "PythonData",
   "language": "python",
   "name": "pythondata"
  },
  "language_info": {
   "codemirror_mode": {
    "name": "ipython",
    "version": 3
   },
   "file_extension": ".py",
   "mimetype": "text/x-python",
   "name": "python",
   "nbconvert_exporter": "python",
   "pygments_lexer": "ipython3",
   "version": "3.7.13"
  }
 },
 "nbformat": 4,
 "nbformat_minor": 5
}
